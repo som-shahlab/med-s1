{
 "cells": [
  {
   "cell_type": "code",
   "execution_count": 1,
   "metadata": {},
   "outputs": [
    {
     "name": "stderr",
     "output_type": "stream",
     "text": [
      "/share/pi/nigam/users/calebwin/conda/envs/med-s1/lib/python3.10/site-packages/tqdm/auto.py:21: TqdmWarning: IProgress not found. Please update jupyter and ipywidgets. See https://ipywidgets.readthedocs.io/en/stable/user_install.html\n",
      "  from .autonotebook import tqdm as notebook_tqdm\n"
     ]
    }
   ],
   "source": [
    "from analysis_helpers import get_train_example, get_eval_example"
   ]
  },
  {
   "cell_type": "markdown",
   "metadata": {},
   "source": [
    "### Real vs synthetic training data for reasoning\n",
    "- `medqa-nejmcr-1k-random` is real clinician-written reasoning trace in a NEJM case report\n",
    "- `medqa-nejmcr-1k-random-cot-extract` is synthetically generated reasoning given only the context and diagnosis from the NEM case report"
   ]
  },
  {
   "cell_type": "code",
   "execution_count": 2,
   "metadata": {},
   "outputs": [
    {
     "name": "stdout",
     "output_type": "stream",
     "text": [
      "QUESTION:\n",
      "A 1-day-old female infant was admitted to the neonatal intensive care unit of this hospital because of intermittent apnea and cyanosis. The day before admission, the patient was born at another hospital at 41 weeks 4 days' gestation to a 33-year-old primigravid mother. After 44 hours of labor, during which the amniotic membranes were artificially ruptured (17 hours before delivery) and the mother's temperature rose to 38.0°C, with a white-cell count of 26,700 per cubic millimeter, a cesarean section was performed because of failure of labor to progress. The infant weighed 4176 g (90th percentile) at birth, and the Apgar scores were 8 at 1 minute and 9 at 5 minutes.\n",
      "At the other hospital, the infant was admitted to the newborn nursery, where she received care, including ophthalmic erythromycin. At the parents' request, vitamin K was not given. Results of laboratory tests are shown in\n",
      "Table 1\n",
      ". Approximately 24 hours after birth, several episodes of apnea occurred, associated with cyanosis of the skin, lips, and mucosal membranes, and the oxygen saturation fell to 70%. Stimulation and blow-by oxygen were administered, and the infant was transferred to the special care nursery. During the next 2 hours, three additional episodes of apnea and cyanosis were observed, associated with oxygen desaturation (50 to 60% saturation) and bradycardia (60 to 70 beats per minute). Neither lip-smacking nor abnormal movements were seen. The trachea was intubated. A chest radiograph showed the endotracheal tube above the carina and clear lung fields. A specimen of blood was sent for culture, and ampicillin and gentamicin were administered intravenously. Morphine sulfate (0.1 ml per kilogram of body weight) was administered intravenously, and the infant was bag-ventilated by hand, with 21% inspired oxygen and minimal pressures, at a rate of 30 breaths per minute. She was transferred to this hospital by ambulance and admitted to the neonatal intensive care unit.\n",
      "The mother had received routine prenatal care. The maternal blood type was O, Rh-positive; results of screening tests for hepatitis B surface antigen, syphilis, group B streptococcus, and rubella were negative. There was a family history of pulmonary embolus, but there were no neurodevelopmental disorders, clotting disorders, or unexplained infant deaths.\n",
      "On examination, the infant appeared well. The weight was 4070 g, and the head circumference 34.8 cm. The temperature was 37.3°C, the pulse 125 beats per minute, the respiratory rate 35 breaths per minute, and the oxygen saturation 99% while the patient was breathing 21% oxygen with conventional mechanical ventilation set at 25 breaths per minute; the peak inspiratory pressure was 16 cm of water, and the end-expiratory pressure was 5 cm of water. There were no dysmorphic features. Mild edema was present over the left side of the temporoparietal scalp. The anterior fontanel was open and full, and the suture lines were normal. The eyes opened spontaneously, tracked to the examiner's face, and closed to penlight stimulation. All limbs moved spontaneously; there was bilateral hypertonia with no clonus. Deep-tendon reflexes were brisk. The Moro reflex was present, the snout sign was negative, and the Babinski reflex was present in both feet. The remainder of the examination was normal. Results of laboratory tests are shown in\n",
      "Table 1\n",
      ". A chest radiograph was normal. Intravenous fluid (10% glucose and water) was administered. During initial bedside electroencephalographic (EEG) monitoring that lasted an hour, with the patient in wakeful, active, and quiet sleep states, no apneic events occurred. The left hemisphere showed slightly excessive theta activity; there was no evidence of seizure.\n",
      "Computed tomographic (CT) scanning of the brain without the administration of contrast material revealed relative hypodensity of the anterior left temporal lobe, involving the superior temporal gyrus and extending into the middle temporal gyrus. There was no intracranial hemorrhage or hydrocephalus. Magnetic resonance imaging (MRI) of the brain confirmed a subtle increase in T\n",
      "2\n",
      "-weighted signal, with loss of differentiation between gray and white matter in the left temporal lobe that involved the superior and middle temporal gyrus, a finding that was consistent with gyral edema, with a corresponding wedge-shaped region of decreased diffusion. Collectively, these findings were believed to be consistent with acute arterial ischemic injury of the left temporal lobe in the distribution of the left middle cerebral artery.\n",
      "During the first night in this hospital, a 10-second episode of leftward nystagmus occurred that was accompanied by a fall in the respiratory rate to 28 breaths per minute, without tonic–clonic movements or oxygen desaturation. Several additional self-limited episodes of bradypnea occurred that lasted less than 30 seconds.\n",
      "On the second hospital day, continuous EEG monitoring showed frequent sharp waves in the left temporal lobe, where there was also seizure activity, both with and without accompanying apnea; there was no clinical evidence of seizures. An episode of bradypnea occurred, with oxygen saturation of 81% and cyanosis; the bradypnea resolved spontaneously, and phenobarbital (loading dose, 20 mg per kilogram) was administered. The blood cultures obtained at the other hospital were reported to be negative, and antibiotics were discontinued. On the second and third hospital days, the oxygen saturation fell to 81 to 86% intermittently, with no corresponding change in the respiratory rate. Seizure activity continued to appear on the EEG tracing; additional phenobarbital (10 mg per kilogram) was given, followed by the administration of fosphenytoin, and encephalographic seizure activity ceased. Results of laboratory tests from day 2 are shown in\n",
      "Table 1\n",
      ". Vitamin K was administered subcutaneously. An echocardiogram on the third hospital day showed thickening of the tricuspid leaflets, with a thin, mobile, linear echodensity that prolapsed into the right atrium, findings that were consistent with a vegetation or thrombus on the valve, as well as a patent foramen ovale with right-to-left shunting.\n",
      "Fosphenytoin was discontinued on the fourth day; continuous EEG monitoring was stopped, and the trachea was extubated. Anticoagulation with low-molecular-weight heparin was begun. An EEG obtained on the fifth day showed no seizure activity.\n",
      "A diagnostic test was performed.\n",
      "What is the diagnosis of the patient?\n",
      "\n",
      "REASONING:\n",
      "\n",
      "\n",
      "Differential Diagnosis\n",
      "----------------------\n",
      "\n",
      "*Dr. Raymond W. Redline:* May we see the EEG and imaging studies?*Dr. Kalpathy S. Krishnamoorthy:* A 24-hour bedside EEG, obtained when the baby was having multiple apneic events (see Figure 1 of the [Supplementary Appendix](#APP358161713DC1), available with the full text of this article at www.nejm.org), shows runs of high-voltage sharp waves coming predominantly from the left temporal region, lasting for more than 10 seconds; this pattern is considered an EEG hallmark of seizure. Similar runs occurred almost every 5 to 10 minutes for the next 18 hours, which were consistent with frequent seizures. Many of these results were not correlated with any clinical evidence of seizure activity. Since the absence of a correlation between EEG and clinical findings is not uncommon, in difficult cases, continuous bedside EEG can be helpful in deciding on appropriate therapy.Because of the EEG evidence of seizures, the child was given anticonvulsant agents intravenously; after 6 to 8 hours, EEG evidence of seizure disappeared, indicating a response to treatment. A follow-up standard EEG obtained 3 days later was normal.*Dr. Pallavi Sagar:* CT scanning of the brain on the first hospital day without the administration of contrast material showed no evidence of hydrocephalus, intracranial hemorrhage, brain malformation, or mass lesion. However, a subtle hypodensity in the left temporal lobe ([Figure 1A](#f01)) raised concern about acute ischemic injury. The same day, an MRI study of the brain ([Figure 1B](#f01)) confirmed the presence of a wedge-shaped area of loss of differentiation between gray matter and white matter in the left temporal lobe corresponding to the abnormality on the CT scan of the brain, which was consistent with edema. Diffusion-weighted imaging ([Figure 1C](#f01)) showed restricted diffusion, with decreased apparent-diffusion-coefficient values ([Figure 1D](#f01)) suggestive of cytotoxic edema. These findings are consistent with acute arterial ischemic stroke in the distribution of the left middle cerebral artery.*Dr. Mary Etta King:* The echocardiogram shows diffuse thickening of the septal leaflet of the tricuspid valve ([Figure 2A](#f02) and [Video 1](#v01)). In some views, there is a small, linear, prolapsing structure associated with the area of thickening ([Figure 2A](#f02) and [Video 2](#v01)). This may represent a fibrin strand, thrombus, or vegetation associated with the valve. There is a patent foramen ovale ([Figure 2B](#f02) and [Video 3](#v01)), as seen in nearly all newborns, with evidence of intermittent right-to-left shunting on color Doppler imaging ([Figure 2C](#f02) and [Video 4](#v01)). Since the pressures in the right side of the heart of a newborn are still somewhat high, there is the potential for right-to-left embolization through the patent foramen ovale.*Dr. Redline:* This 1-day-old infant had unexplained episodes of apnea after birth by cesarean section at 41 weeks 4 days' gestation. The birth was complicated by prolonged labor, artificial rupture of the membranes 17 hours before delivery, and a maternal temperature of 38.0°C. This presentation could result from a number of conditions.\n",
      "### Chorioamnionitis\n",
      "\n",
      "Long labor, a prolonged period between artificial rupture of the membranes and delivery, maternal fever, a high maternal white-cell count, and a ratio of immature to total neutrophils in the newborn that is at the upper limit of the normal range are suggestive, but not diagnostic, of chorioamnionitis in this case.[1](#core-r001) Chorioamnionitis is an infection of the placental membranes usually caused by organisms spreading to the uterus from the lower genital tract. The clinical diagnosis of chorioamnionitis has high false negative and false positive rates as compared with the gold standard, placental histopathological diagnosis.[2](#core-r002)\n",
      "### Apneic Spells\n",
      "\n",
      "Apneic spells, defined as cessation of respirations for 15 to 20 seconds or more in the first 6 months of life, are frequently associated with oxygen desaturation and reflex bradycardia.[3](#core-r003) In preterm infants, the normal stimulation of respiratory drive triggered by transient arterial hypoxia and increased hypercapnia is commonly delayed, and prolonged periods of apnea can occur in the absence of a specific cause. In term infants, such as this one, apneic spells are usually observed in association with other abnormalities. Causes of apneic spells originating outside the central nervous system (CNS) include sepsis, genetic metabolic disorders, congenital heart disease, gastroesophageal reflux, and poor pharyngeal coordination. Causes that originate within the CNS include hypoventilation syndromes, parenchymal lesions, and seizures. In this patient, seizures were documented by EEG and were responsible for the episodes of bradypnea and apnea.\n",
      "### Neonatal Seizures\n",
      "\n",
      "Unlike seizures in later life, neonatal seizures are often brief and subtle.[4](#core-r004) They usually require EEG confirmation and have a distinct spectrum of eliciting factors. Causes of neonatal seizure not associated with the CNS include drug withdrawal, electrolyte imbalance, pyridoxine deficiency, and genetic–metabolic disorders. In this case, there was no history of maternal substance abuse or positive results of drug testing. Serum sodium, calcium, and glucose levels were normal, and the seizures responded to medication without pyridoxine supplementation. The list of inborn errors of metabolism associated with neonatal seizures is long. Most are characterized by hypotonia, lethargy, coma, or ataxia rather than the hypertonia and normal consciousness in this patient. Furthermore, localization of seizures to the left temporal lobe of the brain, normal screening laboratory values, a negative family history, and the absence of extra-CNS manifestations make these diagnoses unlikely.Causes of seizures arising within the CNS include hypoxic–ischemic brain injury, maldevelopment of the CNS, and cerebrovascular lesions. This infant's Apgar scores were normal, and there were no signs or symptoms of neonatal encephalopathy, ruling out a hypoxic–ischemic event. Cerebrovascular lesions can affect veins or arteries. Venous lesions include sinus venous thrombosis, hemorrhagic infarction, and malformations. Arterial lesions include strokes due to occlusion of large or small arteries and global cerebral hypoperfusion, causing necrosis of tissue at the periphery of arterial vascular beds (known as watershed infarcts). Radiologic studies showed a lesion in the distribution of the left middle cerebral artery, a finding consistent with perinatal arterial stroke.\n",
      "### Perinatal Ischemic Stroke\n",
      "\n",
      "The features of this case meet the defining criterion for perinatal ischemic stroke: focal disruption of cerebral blood flow due to arterial or venous thrombosis occurring between the 20th week of fetal life and the 28th postnatal day and confirmed by neuroimaging or neuropathological studies.[5](#core-r005) Neonatal stroke is the most common known cause of cerebral palsy in term infants such as this one. Although rare cases are caused by malformed or damaged blood vessels or infectious vasculitis,[6](#core-r006) these causes are especially uncommon in the early perinatal period and thus are unlikely in this case. The remaining cases are attributable to thromboembolic disease, the probable diagnosis here. Thromboembolic lesions most commonly affect the left middle cerebral artery, possibly reflecting a more direct route of spread to this artery through a patent foramen ovale than to other cerebral arteries. This patient had no obvious risk factors for thromboembolic disease, such as indwelling catheters or cardiac malformations. Among the multiple risk factors ([Table 2](#t02)), those most relevant to this case are fetal thrombophilia, neonatal infection, and thromboinflammatory disorders of the placenta.\n",
      "#### Fetal Thrombophilia\n",
      "\n",
      "As in adult and pediatric stroke, underlying thrombophilic disorders are important risk factors for perinatal stroke. The only maternal thrombophilias implicated in neonatal stroke are diseases associated with IgG antiphospholipid antibodies, which can cross the placental barrier. In this case, there was no history of maternal antiphospholipid antibody syndrome or connective tissue disease. Neonatal abnormalities associated with perinatal arterial stroke that could be considered in this case include those that may occur in the mother and others listed in [Table 2](#t02).[6](#core-r006) Despite the family history of pulmonary embolism, the mild transient elevation in the patient's prothrombin time, and the possible thrombus on the tricuspid valve, testing in this case failed to reveal any of these abnormalities. Nonetheless, since levels of coagulation and anticoagulation factors in the neonatal period differ markedly from levels later in life, repeated and extended testing of mother and fetus after the perinatal period should be considered in this case.\n",
      "#### Neonatal Infection\n",
      "\n",
      "Fetal and neonatal infections can be associated with high circulating levels of inflammatory cytokines, activated platelets, complement components, and decreased anticoagulant proteins that together can promote endothelial activation, platelet adherence, and development of thrombi.[7](#core-r007) Endocarditis might be a cause of the thrombus on the tricuspid valve in this infant, but such a condition is extremely rare in otherwise normal neonates. Local infections of the CNS, including meningitis, ventriculitis, and brain abscess, can lead to a local inflammatory response that can include thrombosis, but this response would generally involve smaller vessels. This infant's blood cultures were negative, and the lack of systemic symptoms of sepsis and the normal chest radiograph argue against neonatal infection as a cause of stroke in this case.\n",
      "#### Severe Placental–Fetal Vascular Lesions\n",
      "\n",
      "Finally, thromboinflammatory processes affecting large fetal vessels in the umbilical cord, chorionic plate, and large stem villi have been found in children with cerebral palsy and other forms of long-term neurologic impairment, including stroke[8](#core-r008) ([Table 3](#t03)). These lesions can contribute to stroke in three ways: global impairment of placental function, leading to hypoxia and acidosis; release of inflammatory mediators that can promote a fetal coagulopathy; and formation of placental vascular thrombi that can embolize through the ductus venosus and foramen ovale to the cerebral arterial circulation.Meconium-associated vascular necrosis[9](#core-r009) can be ruled out, since there was no meconium staining of amniotic fluid in this case. Chronic villitis with obliterative fetal vasculitis[10](#core-r010) is more commonly associated with diffuse CNS disease than with localized disease. Fetal thrombotic vasculopathy[11](#core-r011) is unlikely in the absence of fetal thrombophilia or chronic umbilical-cord obstruction. The most likely diagnosis in this case is thus acute chorioamnionitis with a severe fetal inflammatory response.[12](#core-r012) Although histologic evidence of chorioamnionitis is seen in 10 to 15% of term placentas, severe fetal inflammatory responses are much less common, are risk factors for neurologic impairment in both term and preterm infants,[2](#core-r002) and are, in my experience, the placental lesion most commonly seen in cases of spastic hemiplegia and perinatal stroke.[13–16](#core-r013)My choice of diagnostic test would be pathological examination of the placenta.*Dr. Nancy Lee Harris* (Pathology): Dr. Krishnamoorthy, what was your thinking when you evaluated this patient?*Dr. Krishnamoorthy:* The combination of apnea, oxygen desaturation, and cyanosis in a term infant suggested the diagnosis of recurrent subtle seizures, which were confirmed by continuous EEG monitoring. Since a common cause of subtle seizures is intracranial hemorrhage, especially subarachnoid hemorrhage with pooling in the temporal-lobe tips, I initially suspected an intracranial hemorrhage. In most cases, neonatal stroke is manifested as focal clonic seizures, so this condition was not as high on our list of diagnoses. However, imaging studies revealed evidence of a stroke. We requested that the placenta be sent from the other hospital for examination.\n",
      "\n",
      "Pathological Discussion\n",
      "-----------------------\n",
      "\n",
      "*Dr. Drucilla J. Roberts:* The placenta had been frozen and was sent to us for examination. It weighed 660 g, and there was no gross abnormality. The cord was inserted eccentrically into the placenta, with no membranous vessels. It was normal in length and diameter, without abnormal spiraling or knots; the membranes were not appreciably discolored, and there were no masses in the parenchyma. Sections of the cord, membranes, chorionic plate, maternal floor, and parenchyma were obtained. Histologic examination revealed a normally developed, mature placenta with moderate acute chorioamnionitis ([Figure 3A](#f03)); a severe, dramatic chorionic-plate vasculitis ([Figure 3B](#f03)); and a mild umbilical-cord phlebitis ([Figure 3C](#f03)). The diagnosis is acute chorioamnionitis with umbilical-cord phlebitis and intense chorionic-plate vasculitis.*Dr. Harris:* Dr. Grabowski, would you like to comment on the management of this case?\n",
      "\n",
      "Discussion of Management\n",
      "------------------------\n",
      "\n",
      "*Dr. Eric F. Grabowski:* As a member of the Pediatric Stroke Service, I was asked whether there was a need for anticoagulation in this case. Recurrent thromboembolic events are rare in neonates with arterial ischemic stroke, with such events reported in only 3% of the infants in one study.[17](#core-r017) This low rate reflects the predominance of perinatal and maternal factors, which do not persist after birth, in the case of neonatal stroke. Many neonates with recurrent stroke have at least one plasma-phase risk factor (e.g., factor V Leiden).[17](#core-r017) Although newborns with stroke usually do not require anticoagulant therapy, I would recommend its use, first, if there is a thrombus in the heart or in a major artery, especially in the presence of a patent foramen ovale or atrial or ventricular septal defect; second, if there is a plasma-phase risk factor other than isolated factor V Leiden or the prothrombin gene mutation G20210A; and third, if there is radiologically confirmed progression or recurrence of stroke.In this patient, despite a family history of pulmonary embolism, no plasma risk factor was found. The parents had declined administration of vitamin K after birth, which is given to correct the low levels of vitamin K–dependent clotting factors (factors II, VII, IX, and X) in newborns but which also corrects the low levels of anticlotting factors (proteins C, S, and Z). The withholding of vitamin K in this case may have allowed low levels of both factor types to persist. Vitamin K was given on the second hospital day, with normalization of the prothrombin time.Although the thrombus that gave rise to this patient's stroke seems likely to have originated in the placenta, the picture was complicated by the echocardiogram, which showed thickening of the tricuspid leaflets and a prolapsing structure on the valve, findings that we interpreted as valvular thrombus, especially in view of the child's elevated level of D-dimer. Whether this thrombus also originated in the placenta or was formed in situ because of a hypercoagulable state, there was a risk that it would embolize to the brain through the patent foramen ovale. Thus, this patient met our criteria for use of anticoagulation therapy. We administered low-molecular-weight heparin (1.5 mg per kilogram), subcutaneously, twice daily for 3 months.Follow-up echocardiography while the patient was receiving treatment with this regimen showed disappearance of the mobile thrombus at the time of discharge on the 11th hospital day; the thickening of the tricuspid valve had resolved by the 7th week. A patent foramen ovale was still present.*Dr. Harris:* Dr. Krishnamoorthy, will you tell us how the patient is now?*Dr. Krishnamoorthy:* I last saw her about 3 months after discharge. At that time, the phenobarbital had been stopped for about 6 weeks; there was no further evidence of seizure activity, and her neurologic examination was normal. Her pediatrician reported that she had achieved all the normal developmental milestones at 1 year of age and that her development was normal. Most infants with perinatal stroke have a good prognosis, without neurologic deficits, and achieve normal or close-to-normal milestones. This patient's parents declined further imaging studies, but in most patients, the lesions are actually reduced in size on follow-up MRI. In contrast, the prognosis is much worse in cases of antenatal stroke, occurring at a gestational age of less than 28 weeks. Larger areas of tissue loss can be seen on MRI, most patients have cerebral palsy with marked spasticity, and many have abnormal cognitive development.\n",
      "\n",
      "\n",
      "ANSWER:\n",
      "Severe acute chorioamnionitis with umbilical-cord phlebitis and intense chorionic-plate vasculitis.\n"
     ]
    }
   ],
   "source": [
    "get_train_example(\"medqa-nejmcr-1k-random\", 0, print_format=True)"
   ]
  },
  {
   "cell_type": "code",
   "execution_count": 3,
   "metadata": {},
   "outputs": [
    {
     "name": "stdout",
     "output_type": "stream",
     "text": [
      "QUESTION:\n",
      "A 1-day-old female infant was admitted to the neonatal intensive care unit of this hospital because of intermittent apnea and cyanosis. The day before admission, the patient was born at another hospital at 41 weeks 4 days' gestation to a 33-year-old primigravid mother. After 44 hours of labor, during which the amniotic membranes were artificially ruptured (17 hours before delivery) and the mother's temperature rose to 38.0°C, with a white-cell count of 26,700 per cubic millimeter, a cesarean section was performed because of failure of labor to progress. The infant weighed 4176 g (90th percentile) at birth, and the Apgar scores were 8 at 1 minute and 9 at 5 minutes.\n",
      "At the other hospital, the infant was admitted to the newborn nursery, where she received care, including ophthalmic erythromycin. At the parents' request, vitamin K was not given. Results of laboratory tests are shown in\n",
      "Table 1\n",
      ". Approximately 24 hours after birth, several episodes of apnea occurred, associated with cyanosis of the skin, lips, and mucosal membranes, and the oxygen saturation fell to 70%. Stimulation and blow-by oxygen were administered, and the infant was transferred to the special care nursery. During the next 2 hours, three additional episodes of apnea and cyanosis were observed, associated with oxygen desaturation (50 to 60% saturation) and bradycardia (60 to 70 beats per minute). Neither lip-smacking nor abnormal movements were seen. The trachea was intubated. A chest radiograph showed the endotracheal tube above the carina and clear lung fields. A specimen of blood was sent for culture, and ampicillin and gentamicin were administered intravenously. Morphine sulfate (0.1 ml per kilogram of body weight) was administered intravenously, and the infant was bag-ventilated by hand, with 21% inspired oxygen and minimal pressures, at a rate of 30 breaths per minute. She was transferred to this hospital by ambulance and admitted to the neonatal intensive care unit.\n",
      "The mother had received routine prenatal care. The maternal blood type was O, Rh-positive; results of screening tests for hepatitis B surface antigen, syphilis, group B streptococcus, and rubella were negative. There was a family history of pulmonary embolus, but there were no neurodevelopmental disorders, clotting disorders, or unexplained infant deaths.\n",
      "On examination, the infant appeared well. The weight was 4070 g, and the head circumference 34.8 cm. The temperature was 37.3°C, the pulse 125 beats per minute, the respiratory rate 35 breaths per minute, and the oxygen saturation 99% while the patient was breathing 21% oxygen with conventional mechanical ventilation set at 25 breaths per minute; the peak inspiratory pressure was 16 cm of water, and the end-expiratory pressure was 5 cm of water. There were no dysmorphic features. Mild edema was present over the left side of the temporoparietal scalp. The anterior fontanel was open and full, and the suture lines were normal. The eyes opened spontaneously, tracked to the examiner's face, and closed to penlight stimulation. All limbs moved spontaneously; there was bilateral hypertonia with no clonus. Deep-tendon reflexes were brisk. The Moro reflex was present, the snout sign was negative, and the Babinski reflex was present in both feet. The remainder of the examination was normal. Results of laboratory tests are shown in\n",
      "Table 1\n",
      ". A chest radiograph was normal. Intravenous fluid (10% glucose and water) was administered. During initial bedside electroencephalographic (EEG) monitoring that lasted an hour, with the patient in wakeful, active, and quiet sleep states, no apneic events occurred. The left hemisphere showed slightly excessive theta activity; there was no evidence of seizure.\n",
      "Computed tomographic (CT) scanning of the brain without the administration of contrast material revealed relative hypodensity of the anterior left temporal lobe, involving the superior temporal gyrus and extending into the middle temporal gyrus. There was no intracranial hemorrhage or hydrocephalus. Magnetic resonance imaging (MRI) of the brain confirmed a subtle increase in T\n",
      "2\n",
      "-weighted signal, with loss of differentiation between gray and white matter in the left temporal lobe that involved the superior and middle temporal gyrus, a finding that was consistent with gyral edema, with a corresponding wedge-shaped region of decreased diffusion. Collectively, these findings were believed to be consistent with acute arterial ischemic injury of the left temporal lobe in the distribution of the left middle cerebral artery.\n",
      "During the first night in this hospital, a 10-second episode of leftward nystagmus occurred that was accompanied by a fall in the respiratory rate to 28 breaths per minute, without tonic–clonic movements or oxygen desaturation. Several additional self-limited episodes of bradypnea occurred that lasted less than 30 seconds.\n",
      "On the second hospital day, continuous EEG monitoring showed frequent sharp waves in the left temporal lobe, where there was also seizure activity, both with and without accompanying apnea; there was no clinical evidence of seizures. An episode of bradypnea occurred, with oxygen saturation of 81% and cyanosis; the bradypnea resolved spontaneously, and phenobarbital (loading dose, 20 mg per kilogram) was administered. The blood cultures obtained at the other hospital were reported to be negative, and antibiotics were discontinued. On the second and third hospital days, the oxygen saturation fell to 81 to 86% intermittently, with no corresponding change in the respiratory rate. Seizure activity continued to appear on the EEG tracing; additional phenobarbital (10 mg per kilogram) was given, followed by the administration of fosphenytoin, and encephalographic seizure activity ceased. Results of laboratory tests from day 2 are shown in\n",
      "Table 1\n",
      ". Vitamin K was administered subcutaneously. An echocardiogram on the third hospital day showed thickening of the tricuspid leaflets, with a thin, mobile, linear echodensity that prolapsed into the right atrium, findings that were consistent with a vegetation or thrombus on the valve, as well as a patent foramen ovale with right-to-left shunting.\n",
      "Fosphenytoin was discontinued on the fourth day; continuous EEG monitoring was stopped, and the trachea was extubated. Anticoagulation with low-molecular-weight heparin was begun. An EEG obtained on the fifth day showed no seizure activity.\n",
      "A diagnostic test was performed.\n",
      "What is the diagnosis of the patient?\n",
      "\n",
      "REASONING:\n",
      "The infant presented with apnea and cyanosis shortly after birth.\n",
      "\n",
      "The mother had a prolonged labor with artificial rupture of membranes and fever, suggesting possible infection. Her white blood cell count was also elevated.\n",
      "\n",
      "The infant's initial symptoms, along with the maternal history, point towards a possible infection.\n",
      "\n",
      "The initial treatment included antibiotics, which further supports the suspicion of infection.\n",
      "\n",
      "However, the blood cultures came back negative, and the antibiotics were discontinued. So, maybe not *just* infection.\n",
      "\n",
      "The infant also had neurological symptoms: nystagmus, bradypnea, and seizure activity on EEG.\n",
      "\n",
      "The CT and MRI scans revealed ischemic injury in the left temporal lobe. This suggests a stroke.\n",
      "\n",
      "The echocardiogram showed a vegetation or thrombus on the tricuspid valve and a patent foramen ovale with right-to-left shunting.\n",
      "\n",
      "A thrombus in the heart, combined with a PFO, could have allowed the thrombus to cross over to the arterial side and cause a stroke.\n",
      "\n",
      "The maternal history of pulmonary embolus also raises the possibility of a clotting disorder.\n",
      "\n",
      "The initial apnea and cyanosis could have been caused by the stroke itself, or by the thrombus lodging in the pulmonary circulation before causing the stroke.\n",
      "\n",
      "The seizures are likely a consequence of the stroke.\n",
      "\n",
      "The fact that Vitamin K was not given could have contributed to bleeding, but the CT scan ruled out intracranial hemorrhage.\n",
      "\n",
      "The question asks for the diagnosis. Considering the maternal infection signs, the infant's stroke, and the thrombus on the tricuspid valve, a likely scenario is that the infection led to a hypercoagulable state, resulting in the thrombus formation and subsequent stroke. The maternal history of pulmonary embolism also supports a clotting disorder.\n",
      "\n",
      "The provided answer is \"Severe acute chorioamnionitis with umbilical-cord phlebitis and intense chorionic-plate vasculitis.\"\n",
      "\n",
      "Hmm, let's see if that fits. Chorioamnionitis is consistent with the maternal fever, prolonged rupture of membranes, and elevated white blood cell count.\n",
      "\n",
      "The umbilical-cord phlebitis and chorionic-plate vasculitis would be microscopic findings confirming the infection.\n",
      "\n",
      "The infection could have triggered a cascade of events leading to the thrombus formation and stroke.\n",
      "\n",
      "So, the diagnosis of severe acute chorioamnionitis with umbilical-cord phlebitis and intense chorionic-plate vasculitis seems plausible as the underlying cause of the infant's problems.\n",
      "\n",
      "\n",
      "ANSWER:\n",
      "Severe acute chorioamnionitis with umbilical-cord phlebitis and intense chorionic-plate vasculitis.\n"
     ]
    }
   ],
   "source": [
    "get_train_example(\"medqa-nejmcr-1k-random-cot-extract\", 0, print_format=True)"
   ]
  },
  {
   "cell_type": "markdown",
   "metadata": {},
   "source": [
    "### Real and synthetic both get it right"
   ]
  },
  {
   "cell_type": "code",
   "execution_count": 4,
   "metadata": {},
   "outputs": [
    {
     "name": "stdout",
     "output_type": "stream",
     "text": [
      "QUESTION:\n",
      "Which of the following is not true for myelinated nerve fibers:\n",
      "\n",
      "EXPECTED ANSWER:\n",
      "Index: A\n",
      "Answer: Impulse through myelinated fibers is slower than non-myelinated fibers\n",
      "\n",
      "RESPONSE (medqa-nejmcr-1k-random):\n",
      "## Step 1: Analyzing the characteristics of myelinated nerve fibers\n",
      "Myelinated nerve fibers have a specialized structure that allows for faster conduction of impulses. The myelin sheath, produced by Schwann cells, acts as an insulator, reducing the leakage of ions and allowing the action potential to jump from node to node, a process known as saltatory conduction.\n",
      "\n",
      "## Step 2: Understanding the role of nodes of Ranvier\n",
      "Nodes of Ranvier are gaps in the myelin sheath where the action potential is generated. This is due to voltage-gated sodium channels that are concentrated at these points. The action potential jumps from node to node, enabling faster conduction.\n",
      "\n",
      "## Step 3: Comparing conduction speed of myelinated and non-myelinated fibers\n",
      "Myelinated nerve fibers are generally faster than non-myelinated fibers. This is because the myelin sheath reduces ion leakage, allowing the action potential to jump along the length of the fiber without decrement, whereas non-myelinated fibers rely on the passive spread of the action potential along the entire length of the fiber.\n",
      "\n",
      "## Step 4: Considering the effect of local anesthesia on myelinated nerve fibers\n",
      "Local anesthesia works by blocking sodium channels, which are found at nodes of Ranvier in myelinated fibers. Therefore, local anesthesia is effective even when the nerve is covered by the myelin sheath because it blocks the action potential at the nodes.\n",
      "\n",
      "## Step 5: Evaluating the options\n",
      "- Option A: Impulse through myelinated fibers is slower than non-myelinated fibers - This is false, as myelinated fibers are generally faster than non-myelinated fibers.\n",
      "- Option B: Membrane currents are generated at nodes of Ranvier - This is true, as the action potential is generated at the nodes of Ranvier in myelinated fibers.\n",
      "- Option C: Saltatory conduction of impulses is seen - This is true, as the action potential jumps from node to node in myelinated fibers.\n",
      "- Option D: Local anesthesia is effective only when the nerve is not covered by myelin sheath - This is false, as local anesthesia is effective even when the nerve is covered by the myelin sheath.\n",
      "\n",
      "The final answer is: $\\boxed{A}$\n",
      "\n",
      "SCORE (medqa-nejmcr-1k-random):\n",
      "✅ Correct\n",
      "\n",
      "RESPONSE (medqa-nejmcr-1k-random-cot-extract):\n",
      "## Thinking\n",
      "\n",
      "Myelinated nerve fibers have a sheath of myelin around them, which is produced by oligodendrocytes in the central nervous system and Schwann cells in the peripheral nervous system. This myelin sheath acts as an electrical insulator, allowing the action potential to jump from node to node, a process known as saltatory conduction. This makes myelinated fibers faster than non-myelinated fibers.\n",
      "\n",
      "So, option A, \"Impulse through myelinated fibers is slower than non-myelinated fibers,\" is false. Myelinated fibers are actually faster.\n",
      "\n",
      "Now, let's look at option B. Membrane currents are indeed generated at the nodes of Ranvier, where the action potential jumps from node to node. This is where the voltage-gated sodium channels are concentrated, allowing the action potential to propagate. So, option B is true.\n",
      "\n",
      "Option C, \"Saltatory conduction of impulses is seen,\" is also true. This is the key feature of myelinated fibers, as I mentioned earlier.\n",
      "\n",
      "Finally, option D, \"Local anesthesia is effective only when the nerve is not covered by myelin sheath,\" is true. Local anesthetics work by blocking the voltage-gated sodium channels, which are concentrated at the nodes of Ranvier in myelinated fibers. If the nerve is not covered by the myelin sheath, the anesthetic can act more easily on the entire length of the fiber.\n",
      "\n",
      "Therefore, the statement that is not true for myelinated nerve fibers is A: \"Impulse through myelinated fibers is slower than non-myelinated fibers.\"\n",
      "\n",
      "## Final Response\n",
      "\n",
      "A\n",
      ".\n",
      "\n",
      "SCORE (medqa-nejmcr-1k-random-cot-extract):\n",
      "✅ Correct\n"
     ]
    }
   ],
   "source": [
    "get_eval_example([\"medqa-nejmcr-1k-random\", \"medqa-nejmcr-1k-random-cot-extract\"], 0, filter_score=[\"correct\", \"correct\"], print_format=True)"
   ]
  },
  {
   "cell_type": "markdown",
   "metadata": {},
   "source": [
    "### Real and synthetic both get it wrong"
   ]
  },
  {
   "cell_type": "code",
   "execution_count": 5,
   "metadata": {},
   "outputs": [
    {
     "name": "stdout",
     "output_type": "stream",
     "text": [
      "QUESTION:\n",
      "A second-year PG resident tells you to perform an ABG of a patient. All of the following are true about performing an ABG except:\n",
      "\n",
      "EXPECTED ANSWER:\n",
      "Index: A\n",
      "Answer: Before performing the ABG, syringe should be loaded with 0.3 cc of heparin\n",
      "\n",
      "RESPONSE (medqa-nejmcr-1k-random):\n",
      "## Thinking\n",
      "\n",
      "D\n",
      "### Thinking\n",
      "\n",
      "A second-year PG resident tells you to perform an arterial blood gas (ABG) on a patient. You have a few questions about the procedure. The resident says that before performing the ABG, a syringe should be loaded with 0.3 cc of heparin. You wonder if this is true. You also wonder whether a normal pH, HCO3− level, and PCO2 level always indicate the absence of an acid-base disorder. Finally, you wonder whether a different site should be tried if the modified Allen test is negative. You also wonder whether the radial artery is the preferred site for an ABG.\n",
      "### Arterial Blood Gas\n",
      "\n",
      "An ABG is a test that provides information about the acid-base status of a patient. It is obtained by inserting a needle into an artery and withdrawing a small amount of blood. The blood is then analyzed for pH, PCO2, and HCO3− levels. The pH is a measure of the acidity or alkalinity of the blood. The PCO2 is a measure of the partial pressure of carbon dioxide in the blood. The HCO3− is a measure of the bicarbonate level in the blood. The results of the ABG are interpreted by using the Henderson–Hasselbalch equation, which is as follows: pH = 6.1 + log10 (HCO3−/0.03PCO2). This equation shows that the pH is determined by the ratio of the HCO3− level to the PCO2 level. If the ratio is high, the pH is high (alkaline), and if the ratio is low, the pH is low (acidic). The pH, PCO2, and HCO3− levels are used to classify acid-base disorders as either respiratory or metabolic. Respiratory acid-base disorders are caused by an imbalance in the exchange of gases between the blood and the lungs, and metabolic acid-base disorders are caused by an imbalance in the production or excretion of acid and base by the kidneys. A normal pH, PCO2, and HCO3− level does not necessarily indicate the absence of an acid-base disorder, because the body has a compensatory mechanism that allows it to maintain a normal pH in the presence of a primary acid-base disorder. For example, if the PCO2 level is high, the kidneys will increase the production of HCO3− to compensate for the acidosis. If the PCO2 level is low, the kidneys will decrease the production of HCO3− to compensate for the alkalosis. If the HCO3− level is high, the kidneys will increase the excretion of HCO3− to compensate for the alkalosis. If the HCO3− level is low, the kidneys will decrease the excretion of HCO3− to compensate for the acidosis. The ABG is an important test in the diagnosis and management of acid-base disorders. It is often performed in critically ill patients, such as those in the intensive care unit. It is also performed in patients with chronic respiratory or renal disease and in patients with a history of alcohol abuse.\n",
      "### Heparinized Syringe\n",
      "\n",
      "The resident tells you that the syringe should be loaded with 0.3 cc of heparin before the ABG is performed. You wonder if this is true. Heparin is a blood thinner that is used to prevent clotting of the blood in the syringe. The heparin is placed in the syringe before the needle is inserted into the artery. When the needle is inserted, a small amount of blood is drawn into the syringe, and the syringe is then removed from the artery. The blood in the syringe is then analyzed for pH, PCO2, and HCO3− levels. If the syringe is not heparinized, the blood will clot, and the test will not be valid. In this case, the resident is correct. The syringe should be loaded with heparin before the ABG is performed.\n",
      "### Modified Allen's Test\n",
      "\n",
      "The resident tells you that if the modified Allen's test is negative, a different site should be tried. You wonder if this is true. The modified Allen's test is a test of the blood flow to the hand. The test is performed by having the patient make a fist with the hand and then releasing it. The patient is then asked to extend the wrist and fingers while the examiner compresses the radial and ulnar arteries. The hand is then blanched, and the patient is asked to make a fist again. The examiner then releases the radial artery, and the hand is observed for color. If the hand is pink, the test is considered positive. If the hand is not pink, the test is considered negative. The modified Allen's test is used to determine whether the radial artery can be used for an ABG. If the test is negative, the radial artery may not be able to provide enough blood flow to the hand, and the test should be performed on a different artery. In this case, the resident is correct. If the modified Allen's test is negative, a different site should be tried.\n",
      "### Preferred Site\n",
      "\n",
      "The resident tells you that the radial artery is the preferred site. You wonder if this is true. The radial artery is the preferred site for an ABG because it is easily accessible and has a relatively large diameter. The radial artery is located on the lateral aspect of the wrist, and the skin is easily cleansed and prepared for the procedure. The radial artery is also relatively superficial, and the needle can be easily inserted into the artery. The radial artery is preferred over other arteries, such as the brachial artery, because it is smaller and more difficult to access. The ulnar artery is also not preferred because of the high rate of complications, such as nerve injury and hematoma. In this case, the resident is incorrect. The radial artery is not the preferred site. The brachial artery is the preferred site.\n",
      "### Final Response\n",
      "\n",
      "The radial artery is not the preferred site for an arterial blood gas. The brachial artery is the preferred site.\n",
      "\n",
      "SCORE (medqa-nejmcr-1k-random):\n",
      "❌ Wrong\n",
      "\n",
      "RESPONSE (medqa-nejmcr-1k-random-cot-extract):\n",
      "## Thinking\n",
      "\n",
      "The question is asking about the source of calcium ions in a calcific bridge after a calcium hydroxide pulpotomy. A pulpotomy is a procedure where a portion of the pulp is removed.\n",
      "\n",
      "Calcium hydroxide is used in pulpotomies because it's known for its ability to promote calcification.\n",
      "\n",
      "So, the most likely source of calcium ions is the calcium hydroxide itself. It's directly involved in the procedure and is known to stimulate calcification.\n",
      "\n",
      "Therefore, the answer is D. From the calcium hydroxide.\n",
      "\n",
      "## Final Response\n",
      "\n",
      "D\n",
      "From the calcium hydroxide\n",
      ".\n",
      "\n",
      "SCORE (medqa-nejmcr-1k-random-cot-extract):\n",
      "❌ Wrong\n"
     ]
    }
   ],
   "source": [
    "get_eval_example([\"medqa-nejmcr-1k-random\", \"medqa-nejmcr-1k-random-cot-extract\"], 6, filter_score=[\"wrong\", \"wrong\"], print_format=True)"
   ]
  },
  {
   "cell_type": "markdown",
   "metadata": {},
   "source": [
    "### Real gets it right, synthetic gets it wrong"
   ]
  },
  {
   "cell_type": "code",
   "execution_count": 6,
   "metadata": {},
   "outputs": [
    {
     "name": "stdout",
     "output_type": "stream",
     "text": [
      "QUESTION:\n",
      "A blue new born presents with cyanosis. The X–ray chest reveal oligaemic lung field and normal sized heart. Most likely diagnosis is –\n",
      "\n",
      "EXPECTED ANSWER:\n",
      "Index: B\n",
      "Answer: Pulmonary atresia\n",
      "\n",
      "RESPONSE (medqa-nejmcr-1k-random):\n",
      "## Thinking\n",
      "\n",
      "Differential Diagnosis\n",
      "-------------------\n",
      "\n",
      "### Pulmonary Atresia\n",
      "\n",
      "Pulmonary atresia is a congenital anomaly in which the pulmonary valve is absent or hypoplastic, with no communication between the right ventricle and the pulmonary artery. The right ventricle is small and hypertrophied, and the right ventricular cavity is often obliterated by muscle bundles. The right ventricular outflow tract is filled with thrombus, and the pulmonary artery is hypoplastic. In its most common form, pulmonary atresia is associated with a ventricular septal defect, which is usually perimembranous. The aorta is usually large, and the ductus arteriosus is patent. The right ventricular outflow tract is filled with thrombus, and the pulmonary artery is hypoplastic. The ductus arteriosus is large and patent. The right ventricular outflow tract is filled with thrombus, and the pulmonary artery is hypoplastic. The ductus arteriosus is large and patent. The right ventricular outflow tract is filled with thrombus, and the pulmonary artery is hypoplastic. The ductus arteriosus is large and patent. The right ventricular outflow tract is filled with thrombus, and the pulmonary artery is hypoplastic. The ductus arteriosus is large and patent. The right ventricular outflow tract is filled with thrombus, and the pulmonary artery is hypoplastic. The ductus arteriosus is large and patent. The right ventricular outflow tract is filled with thrombus, and the pulmonary artery is hypoplastic. The ductus arteriosus is large and patent. The right ventricular outflow tract is filled with thrombus, and the pulmonary artery is hypoplastic. The ductus arteriosus is large and patent. The right ventricular outflow tract is filled with thrombus, and the pulmonary artery is hypoplastic. The ductus arteriosus is large and patent. The right ventricular outflow tract is filled with thrombus, and the pulmonary artery is hypoplastic. The ductus arteriosus is large and patent. The right ventricular outflow tract is filled with thrombus, and the pulmonary artery is hypoplastic. The ductus arteriosus is large and patent. The right ventricular outflow tract is filled with thrombus, and the pulmonary artery is hypoplastic. The ductus arteriosus is large and patent. The right ventricular outflow tract is filled with thrombus, and the pulmonary artery is hypoplastic. The ductus arteriosus is large and patent. The right ventricular outflow tract is filled with thrombus, and the pulmonary artery is hypoplastic. The ductus arteriosus is large and patent. The right ventricular outflow tract is filled with thrombus, and the pulmonary artery is hypoplastic. The ductus arteriosus is large and patent. The right ventricular outflow tract is filled with thrombus, and the pulmonary artery is hypoplastic. The ductus arteriosus is large and patent. The right ventricular outflow tract is filled with thrombus, and the pulmonary artery is hypoplastic. The ductus arteriosus is large and patent. The right ventricular outflow tract is filled with thrombus, and the pulmonary artery is hypoplastic. The ductus arteriosus is large and patent. The right ventricular outflow tract is filled with thrombus, and the pulmonary artery is hypoplastic. The ductus arteriosus is large and patent. The right ventricular outflow tract is filled with thrombus, and the pulmonary artery is hypoplastic. The ductus arteriosus is large and patent. The right ventricular outflow tract is filled with thrombus, and the pulmonary artery is hypoplastic. The ductus arteriosus is large and patent. The right ventricular outflow tract is filled with thrombus, and the pulmonary artery is hypoplastic. The ductus arteriosus is large and patent. The right ventricular outflow tract is filled with thrombus, and the pulmonary artery is hypoplastic. The ductus arteriosus is large and patent. The right ventricular outflow tract is filled with thrombus, and the pulmonary artery is hypoplastic. The ductus arteriosus is large and patent. The right ventricular outflow tract is filled with thrombus, and the pulmonary artery is hypoplastic. The ductus arteriosus is large and patent. The right ventricular outflow tract is filled with thrombus, and the pulmonary artery is hypoplastic. The ductus arteriosus is large and patent. The right ventricular outflow tract is filled with thrombus, and the pulmonary artery is hypoplastic. The ductus arteriosus is large and patent. The right ventricular outflow tract is filled with thrombus, and the pulmonary artery is hypoplastic. The ductus arteriosus is large and patent. The right ventricular outflow tract is filled with thrombus, and the pulmonary artery is hypoplastic. The ductus arteriosus is large and patent. The right ventricular outflow tract is filled with thrombus, and the pulmonary artery is hypoplastic. The ductus arteriosus is large and patent. The right ventricular outflow tract is filled with thrombus, and the pulmonary artery is hypoplastic. The ductus arteriosus is large and patent. The right ventricular outflow tract is filled with thrombus, and the pulmonary artery is hypoplastic. The ductus arteriosus is large and patent. The right ventricular outflow tract is filled with thrombus, and the pulmonary artery is hypoplastic. The ductus arteriosus is large and patent. The right ventricular outflow tract is filled with thrombus, and the pulmonary artery is hypoplastic. The ductus arteriosus is large and patent. The right ventricular outflow tract is filled with thrombus, and the pulmonary artery is hypoplastic. The ductus arteriosus is large and patent. The right ventricular outflow tract is filled with thrombus, and the pulmonary artery is hypoplastic. The ductus arteriosus is large and patent. The right ventricular outflow tract is filled with thrombus, and the pulmonary artery is hypoplastic. The ductus arteriosus is large and patent. The right ventricular outflow tract is filled with thrombus, and the pulmonary artery is hypoplastic. The ductus arteriosus is large and patent. The right ventricular outflow tract is filled with thrombus, and the pulmonary artery is hypoplastic. The ductus arteriosus is large and patent. The right ventricular outflow tract is filled with thrombus, and the pulmonary artery is hypoplastic. The ductus arteriosus is large and patent. The right ventricular outflow tract is filled with thrombus, and the pulmonary artery is hypoplastic. The ductus arteriosus is large and patent. The right ventricular outflow tract is filled with thrombus, and the pulmonary artery is hypoplastic. The ductus arteriosus is large and patent. The right ventricular outflow tract is filled with thrombus, and the pulmonary artery is hypoplastic. The ductus arteriosus is large and patent. The right ventricular outflow tract is filled with thrombus, and the pulmonary artery is hypoplastic. The ductus arteriosus is large and patent. The right ventricular outflow tract is filled with thrombus, and the pulmonary artery is hypoplastic. The ductus arteriosus is large and patent. The right ventricular outflow tract is filled with thrombus, and the pulmonary artery is hypoplastic. The ductus arteriosus is large and patent. The right ventricular outflow tract is filled with thrombus, and the pulmonary artery is hypoplastic. The ductus arteriosus is large and patent. The right ventricular outflow tract is filled with thrombus, and the pulmonary artery is hypoplastic. The ductus arteriosus is large and patent. The right ventricular outflow tract is filled with thrombus, and the pulmonary artery is hypoplastic. The ductus arteriosus is large and patent. The right ventricular outflow tract is filled with thrombus, and the pulmonary artery is hypoplastic. The ductus arteriosus is large and patent. The right ventricular outflow tract is filled with thrombus, and the pulmonary artery is hypoplastic. The ductus arteriosus is large and patent. The right ventricular outflow tract is filled with thrombus, and the pulmonary artery is hypoplastic. The ductus arteriosus is large and patent. The right ventricular outflow tract is filled with thrombus, and the pulmonary artery is hypoplastic. The ductus arteriosus is large and patent. The right ventricular outflow tract is filled with thrombus, and the pulmonary artery is hypoplastic. The ductus arteriosus is large and patent. The right ventricular outflow tract is filled with thrombus, and the pulmonary artery is hypoplastic. The ductus arteriosus is large and patent. The right ventricular outflow tract is filled with thrombus, and the pulmonary artery is hypoplastic. The ductus arteriosus is large and patent. The right ventricular outflow tract is filled with thrombus, and the pulmonary artery is hypoplastic. The ductus arteriosus is large and patent. The right ventricular out\n",
      "\n",
      "SCORE (medqa-nejmcr-1k-random):\n",
      "✅ Correct\n",
      "\n",
      "RESPONSE (medqa-nejmcr-1k-random-cot-extract):\n",
      "## Thinking\n",
      "\n",
      "The question is asking for the statement that is NOT true about performing an arterial blood gas (ABG).\n",
      "\n",
      "Let's evaluate each option:\n",
      "\n",
      "A. Before performing the ABG, syringe should be loaded with 0.3 cc of heparin: This is a common practice to prevent clotting in the syringe, so this statement is true.\n",
      "\n",
      "B. Normal pH, HCO3, and PCO2 levels may not indicate absence of an acid-base imbalance: This is also true. A normal ABG doesn't rule out underlying acid-base disorders, as there can be compensatory mechanisms at play.\n",
      "\n",
      "C. A different site should be tried if modified Allen's test is negative: This is true. The Allen's test is used to assess collateral circulation to the hand before taking an arterial blood sample from the radial or ulnar artery. If the test is negative, it means the collateral circulation is poor, and a different site should be chosen to avoid ischemia.\n",
      "\n",
      "D. Radial artery is the preferred site: This is where things get tricky. While the radial artery is a common site for ABG sampling, the preferred site can vary depending on the clinical situation and the individual patient. The ulnar artery is often preferred in certain situations, such as in patients with poor radial collateral circulation or a history of radial artery cannulation.\n",
      "\n",
      "So, the statement that is least universally true is that the radial artery is the preferred site.\n",
      "\n",
      "## Final Response\n",
      "\n",
      "D. Radial artery is the preferred site.\n",
      "\n",
      "SCORE (medqa-nejmcr-1k-random-cot-extract):\n",
      "❌ Wrong\n"
     ]
    }
   ],
   "source": [
    "get_eval_example([\"medqa-nejmcr-1k-random\", \"medqa-nejmcr-1k-random-cot-extract\"], 4, filter_score=[\"correct\", \"wrong\"], print_format=True)"
   ]
  }
 ],
 "metadata": {
  "kernelspec": {
   "display_name": "Python 3",
   "language": "python",
   "name": "python3"
  },
  "language_info": {
   "codemirror_mode": {
    "name": "ipython",
    "version": 3
   },
   "file_extension": ".py",
   "mimetype": "text/x-python",
   "name": "python",
   "nbconvert_exporter": "python",
   "pygments_lexer": "ipython3",
   "version": "3.10.16"
  }
 },
 "nbformat": 4,
 "nbformat_minor": 2
}
