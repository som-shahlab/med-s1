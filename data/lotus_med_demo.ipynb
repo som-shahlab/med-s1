{
 "cells": [
  {
   "cell_type": "markdown",
   "metadata": {},
   "source": [
    "# Setup\n",
    "\n",
    "To set up,\n",
    "```bash\n",
    "# Install Lotus and Ollama\n",
    "pip install git+https://github.com/calebwin/lotus.git\n",
    "bash data/install_ollama.sh\n",
    "\n",
    "# Load llama models (use Carina or Colab for GPU)\n",
    "ollama pull llama3.2:3b\n",
    "ollama pull llama3.1:8b\n",
    "ollama pull deepseek-r1:7b\n",
    "\n",
    "# Start the ollama server\n",
    "ollam serve\n",
    "```\n",
    "\n",
    "See [full docs here](https://lotus-ai.readthedocs.io/en/latest/core_concepts.html)."
   ]
  },
  {
   "cell_type": "code",
   "execution_count": 1,
   "metadata": {},
   "outputs": [
    {
     "name": "stderr",
     "output_type": "stream",
     "text": [
      "/share/pi/nigam/users/calebwin/conda/envs/med-s1/lib/python3.10/site-packages/tqdm/auto.py:21: TqdmWarning: IProgress not found. Please update jupyter and ipywidgets. See https://ipywidgets.readthedocs.io/en/stable/user_install.html\n",
      "  from .autonotebook import tqdm as notebook_tqdm\n",
      "2025-02-13 16:20:32,839 - INFO - Use pytorch device_name: cuda\n",
      "2025-02-13 16:20:32,840 - INFO - Load pretrained SentenceTransformer: intfloat/e5-base-v2\n"
     ]
    }
   ],
   "source": [
    "import pandas as pd\n",
    "import lotus\n",
    "from lotus.models import LM, SentenceTransformersRM\n",
    "from lotus.types import CascadeArgs\n",
    "\n",
    "lm_smallest = LM(model=\"ollama/llama3.2:3b\") # llama3.2\n",
    "lm_medium = LM(model=\"ollama/llama3.1:8b\")\n",
    "lm_medium_r = LM(model=\"ollama/deepseek-r1:7b\")\n",
    "rm = SentenceTransformersRM(model=\"intfloat/e5-base-v2\")\n",
    "\n",
    "lotus.settings.configure(rm=rm, lm=lm_medium_r)"
   ]
  },
  {
   "cell_type": "markdown",
   "metadata": {},
   "source": [
    "# Basics\n",
    "Simple example of semantically joining two text columns.\n",
    "\n",
    "Note that there are 2 \"modes\" for using Lotus to semantically analyze your data:\n",
    "1. No explicit reasoning (e.g. `llama3.1:8b`)\n",
    "2. Reasoning LLMs (e.g. `deepseek-r1:7b`): include `strategy=\"deepseek\"` and `return_explanations=True` to get a column with the reasoning involved in the semantic analysis.\n",
    "\n",
    "In this tutorial we will use the latter mode. Make sure you installed Caleb's fork of lotus for the reasoning LLM support."
   ]
  },
  {
   "cell_type": "code",
   "execution_count": null,
   "metadata": {},
   "outputs": [
    {
     "name": "stderr",
     "output_type": "stream",
     "text": [
      "Join comparisons: 100%|██████████ 12/12 LM Calls [00:14<00:00,  1.22s/it]"
     ]
    },
    {
     "name": "stdout",
     "output_type": "stream",
     "text": [
      "                 Course Name  \\\n",
      "1        Riemannian Geometry   \n",
      "2          Operating Systems   \n",
      "4                  Compilers   \n",
      "4                  Compilers   \n",
      "5  Intro to computer science   \n",
      "\n",
      "                                    explanation_join             Skill  \n",
      "1  Okay, I need to determine whether the claim \"T...              Math  \n",
      "2  Okay, so I need to figure out if the claim is ...  Computer Science  \n",
      "4  Okay, so the user is asking whether taking a c...              Math  \n",
      "4  Okay, I need to determine if the claim \"Taking...  Computer Science  \n",
      "5  Okay, so I need to determine if the claim is t...  Computer Science  \n"
     ]
    },
    {
     "name": "stderr",
     "output_type": "stream",
     "text": [
      "\n"
     ]
    }
   ],
   "source": [
    "# create dataframes with course names and skills\n",
    "courses_data = {\n",
    "    \"Course Name\": [\n",
    "        \"History of the Atlantic World\",\n",
    "        \"Riemannian Geometry\",\n",
    "        \"Operating Systems\",\n",
    "        \"Food Science\",\n",
    "        \"Compilers\",\n",
    "        \"Intro to computer science\",\n",
    "    ]\n",
    "}\n",
    "skills_data = {\"Skill\": [\"Math\", \"Computer Science\"]}\n",
    "courses_df = pd.DataFrame(courses_data)\n",
    "skills_df = pd.DataFrame(skills_data)\n",
    "\n",
    "# lotus semantic join with reasoning\n",
    "res = courses_df.sem_join(skills_df, \"Taking {Course Name} will help me learn {Skill}\", return_explanations=True, strategy=\"deepseek\")\n",
    "print(res)"
   ]
  },
  {
   "cell_type": "markdown",
   "metadata": {},
   "source": [
    "# Case Study 1: Clinical Trial Matching\n",
    "The problem of clinical trial matching is finding patient-trial matches given a dataset of text summaries of patients and text descriptions of trials. In Lotus-speak, this is a \"semantic join\" between patients and trials. The naive approach would be something like:\n",
    "```\n",
    "for P in patients:\n",
    "    for T in trials:\n",
    "        compute LLM(\"is {P} eligible for {T}\")\n",
    "```\n",
    "This leads to a quadratic number of LLM calls which will be slow and expensive. A program written in Lotus as demonstrated below will be auto-optimized to run the most efficient algorithm.\n",
    "\n",
    "For example one algorithm Lotus may generate will (1) in linear-time predict a trial zero-shot for each patient and then (2) run embedding similarity to quickly find a set of probable patient-trial matches (technically matches between trial and the trial that was zero-shot predicted for the patient) and finally (3) run the LLM on all pairs of this subset of probable patient-trial matches. The Lotus optimizer smartly determines the optimal parameters and variant of this semantic join algorithm."
   ]
  },
  {
   "cell_type": "markdown",
   "metadata": {},
   "source": [
    "#### Load data"
   ]
  },
  {
   "cell_type": "code",
   "execution_count": 4,
   "metadata": {},
   "outputs": [],
   "source": [
    "trial_matching_df = pd.read_parquet(\"/share/pi/nigam/data/med-s1/trialllama\").head(5)"
   ]
  },
  {
   "cell_type": "markdown",
   "metadata": {},
   "source": [
    "#### Define target precision and recall"
   ]
  },
  {
   "cell_type": "code",
   "execution_count": null,
   "metadata": {},
   "outputs": [],
   "source": [
    "# The selectivity of this query is so high that even a 50% sample may\n",
    "# not contain a query result and hence the sample would be useless for\n",
    "# optimizing for a target recall or precision\n",
    "# cascade_args = CascadeArgs(recall_target=None, precision_target=None)"
   ]
  },
  {
   "cell_type": "markdown",
   "metadata": {},
   "source": [
    "#### Execute semantic join"
   ]
  },
  {
   "cell_type": "code",
   "execution_count": 31,
   "metadata": {},
   "outputs": [
    {
     "name": "stderr",
     "output_type": "stream",
     "text": [
      "Join comparisons:   0%|           0/25 LM Calls [00:00<?, ?it/s]2025-02-13 01:34:27,619 - INFO - \t Failed to parse: defaulting to True\n",
      "2025-02-13 01:34:27,621 - INFO - \t Failed to parse: defaulting to True\n",
      "2025-02-13 01:34:27,622 - INFO - \t Failed to parse: defaulting to True\n",
      "2025-02-13 01:34:27,623 - INFO - \t Failed to parse: defaulting to True\n",
      "2025-02-13 01:34:27,624 - INFO - \t Failed to parse: defaulting to True\n",
      "2025-02-13 01:34:27,630 - INFO - \t Failed to parse: defaulting to True\n",
      "Join comparisons: 100%|██████████ 25/25 LM Calls [01:09<00:00,  2.78s/it]\n"
     ]
    }
   ],
   "source": [
    "# Prepare the dataframes\n",
    "patients_df = trial_matching_df[['id', 'topic']].drop_duplicates().rename(columns={'topic': 'patient_note', 'id': 'patient_id'})\n",
    "trials_df = trial_matching_df[['clinical_trial']].drop_duplicates()\n",
    "\n",
    "# Define the semantic join instruction\n",
    "join_instruction = \"is patient {patient_note} definitely elibible and relevant for the clinical trial {clinical_trial}\"\n",
    "\n",
    "# Perform the semantic join\n",
    "result_df = patients_df.sem_join(trials_df, join_instruction, return_explanations=True, strategy=\"deepseek\")\n"
   ]
  },
  {
   "cell_type": "code",
   "execution_count": 35,
   "metadata": {},
   "outputs": [
    {
     "data": {
      "text/html": [
       "<div>\n",
       "<style scoped>\n",
       "    .dataframe tbody tr th:only-of-type {\n",
       "        vertical-align: middle;\n",
       "    }\n",
       "\n",
       "    .dataframe tbody tr th {\n",
       "        vertical-align: top;\n",
       "    }\n",
       "\n",
       "    .dataframe thead th {\n",
       "        text-align: right;\n",
       "    }\n",
       "</style>\n",
       "<table border=\"1\" class=\"dataframe\">\n",
       "  <thead>\n",
       "    <tr style=\"text-align: right;\">\n",
       "      <th></th>\n",
       "      <th>patient_id</th>\n",
       "      <th>patient_note</th>\n",
       "      <th>explanation_join</th>\n",
       "      <th>clinical_trial</th>\n",
       "    </tr>\n",
       "  </thead>\n",
       "  <tbody>\n",
       "    <tr>\n",
       "      <th>0</th>\n",
       "      <td>20996_30-2022_NCT01579747</td>\n",
       "      <td>Here is the patient note:\\nA 47-year-old woman...</td>\n",
       "      <td>Okay, so I'm trying to figure out if this pati...</td>\n",
       "      <td>Here is the clinical trial:\\nTitle: DHEA and T...</td>\n",
       "    </tr>\n",
       "    <tr>\n",
       "      <th>0</th>\n",
       "      <td>20996_30-2022_NCT01579747</td>\n",
       "      <td>Here is the patient note:\\nA 47-year-old woman...</td>\n",
       "      <td>Okay, so I need to determine if the patient de...</td>\n",
       "      <td>Here is the clinical trial:\\nTitle: Associatio...</td>\n",
       "    </tr>\n",
       "    <tr>\n",
       "      <th>1</th>\n",
       "      <td>7330_11-2022_NCT00420394</td>\n",
       "      <td>Here is the patient note:\\nA 63-year-old man c...</td>\n",
       "      <td>Alright, I need to determine if the patient de...</td>\n",
       "      <td>Here is the clinical trial:\\nTitle: Does Ultra...</td>\n",
       "    </tr>\n",
       "    <tr>\n",
       "      <th>1</th>\n",
       "      <td>7330_11-2022_NCT00420394</td>\n",
       "      <td>Here is the patient note:\\nA 63-year-old man c...</td>\n",
       "      <td>Alright, so I need to determine whether the pa...</td>\n",
       "      <td>Here is the clinical trial:\\nTitle: Perioperat...</td>\n",
       "    </tr>\n",
       "    <tr>\n",
       "      <th>3</th>\n",
       "      <td>25242_36-2022_NCT01944501</td>\n",
       "      <td>Here is the patient note:\\nA 47-year-old woman...</td>\n",
       "      <td>Alright, so I need to determine if the patient...</td>\n",
       "      <td>Here is the clinical trial:\\nTitle: DHEA and T...</td>\n",
       "    </tr>\n",
       "    <tr>\n",
       "      <th>3</th>\n",
       "      <td>25242_36-2022_NCT01944501</td>\n",
       "      <td>Here is the patient note:\\nA 47-year-old woman...</td>\n",
       "      <td>Alright, so I need to figure out if the patien...</td>\n",
       "      <td>Here is the clinical trial:\\nTitle: Associatio...</td>\n",
       "    </tr>\n",
       "    <tr>\n",
       "      <th>4</th>\n",
       "      <td>20372_42-2021_NCT04091321</td>\n",
       "      <td>Here is the patient note:\\n19 yo Hispanic fema...</td>\n",
       "      <td>Alright, I need to determine if the patient de...</td>\n",
       "      <td>Here is the clinical trial:\\nTitle: Associatio...</td>\n",
       "    </tr>\n",
       "  </tbody>\n",
       "</table>\n",
       "</div>"
      ],
      "text/plain": [
       "                  patient_id  \\\n",
       "0  20996_30-2022_NCT01579747   \n",
       "0  20996_30-2022_NCT01579747   \n",
       "1   7330_11-2022_NCT00420394   \n",
       "1   7330_11-2022_NCT00420394   \n",
       "3  25242_36-2022_NCT01944501   \n",
       "3  25242_36-2022_NCT01944501   \n",
       "4  20372_42-2021_NCT04091321   \n",
       "\n",
       "                                        patient_note  \\\n",
       "0  Here is the patient note:\\nA 47-year-old woman...   \n",
       "0  Here is the patient note:\\nA 47-year-old woman...   \n",
       "1  Here is the patient note:\\nA 63-year-old man c...   \n",
       "1  Here is the patient note:\\nA 63-year-old man c...   \n",
       "3  Here is the patient note:\\nA 47-year-old woman...   \n",
       "3  Here is the patient note:\\nA 47-year-old woman...   \n",
       "4  Here is the patient note:\\n19 yo Hispanic fema...   \n",
       "\n",
       "                                    explanation_join  \\\n",
       "0  Okay, so I'm trying to figure out if this pati...   \n",
       "0  Okay, so I need to determine if the patient de...   \n",
       "1  Alright, I need to determine if the patient de...   \n",
       "1  Alright, so I need to determine whether the pa...   \n",
       "3  Alright, so I need to determine if the patient...   \n",
       "3  Alright, so I need to figure out if the patien...   \n",
       "4  Alright, I need to determine if the patient de...   \n",
       "\n",
       "                                      clinical_trial  \n",
       "0  Here is the clinical trial:\\nTitle: DHEA and T...  \n",
       "0  Here is the clinical trial:\\nTitle: Associatio...  \n",
       "1  Here is the clinical trial:\\nTitle: Does Ultra...  \n",
       "1  Here is the clinical trial:\\nTitle: Perioperat...  \n",
       "3  Here is the clinical trial:\\nTitle: DHEA and T...  \n",
       "3  Here is the clinical trial:\\nTitle: Associatio...  \n",
       "4  Here is the clinical trial:\\nTitle: Associatio...  "
      ]
     },
     "execution_count": 35,
     "metadata": {},
     "output_type": "execute_result"
    }
   ],
   "source": [
    "result_df = result_df[result_df[\"explanation_join\"].notna()]\n",
    "result_df"
   ]
  },
  {
   "cell_type": "markdown",
   "metadata": {},
   "source": [
    "#### Evaluate trial matches"
   ]
  },
  {
   "cell_type": "code",
   "execution_count": 37,
   "metadata": {},
   "outputs": [
    {
     "data": {
      "text/html": [
       "<div>\n",
       "<style scoped>\n",
       "    .dataframe tbody tr th:only-of-type {\n",
       "        vertical-align: middle;\n",
       "    }\n",
       "\n",
       "    .dataframe tbody tr th {\n",
       "        vertical-align: top;\n",
       "    }\n",
       "\n",
       "    .dataframe thead th {\n",
       "        text-align: right;\n",
       "    }\n",
       "</style>\n",
       "<table border=\"1\" class=\"dataframe\">\n",
       "  <thead>\n",
       "    <tr style=\"text-align: right;\">\n",
       "      <th></th>\n",
       "      <th>patient_id</th>\n",
       "      <th>patient_note</th>\n",
       "      <th>explanation_join</th>\n",
       "      <th>clinical_trial</th>\n",
       "      <th>id</th>\n",
       "      <th>output</th>\n",
       "    </tr>\n",
       "  </thead>\n",
       "  <tbody>\n",
       "    <tr>\n",
       "      <th>0</th>\n",
       "      <td>7330_11-2022_NCT00420394</td>\n",
       "      <td>Here is the patient note:\\nA 63-year-old man c...</td>\n",
       "      <td>Alright, so I need to determine whether the pa...</td>\n",
       "      <td>Here is the clinical trial:\\nTitle: Perioperat...</td>\n",
       "      <td>7330_11-2022_NCT00420394</td>\n",
       "      <td>A: eligible</td>\n",
       "    </tr>\n",
       "  </tbody>\n",
       "</table>\n",
       "</div>"
      ],
      "text/plain": [
       "                 patient_id  \\\n",
       "0  7330_11-2022_NCT00420394   \n",
       "\n",
       "                                        patient_note  \\\n",
       "0  Here is the patient note:\\nA 63-year-old man c...   \n",
       "\n",
       "                                    explanation_join  \\\n",
       "0  Alright, so I need to determine whether the pa...   \n",
       "\n",
       "                                      clinical_trial  \\\n",
       "0  Here is the clinical trial:\\nTitle: Perioperat...   \n",
       "\n",
       "                         id       output  \n",
       "0  7330_11-2022_NCT00420394  A: eligible  "
      ]
     },
     "execution_count": 37,
     "metadata": {},
     "output_type": "execute_result"
    }
   ],
   "source": [
    "merged_df = result_df.merge(trial_matching_df[trial_matching_df[\"output\"] == \"A: eligible\"][['id', 'clinical_trial', 'output']], \n",
    "                            left_on=['patient_id', 'clinical_trial'], \n",
    "                            right_on=['id', 'clinical_trial'],\n",
    "                            how=\"inner\")\n",
    "merged_df"
   ]
  },
  {
   "cell_type": "code",
   "execution_count": 40,
   "metadata": {},
   "outputs": [
    {
     "name": "stdout",
     "output_type": "stream",
     "text": [
      "Precision: 28.57%\n",
      "Recall: 50.00%\n",
      "\n",
      "Correct matches:\n",
      "Patient ID: 7330_11-2022_NCT00420394\n",
      "Clinical Trial: Perioperative Chemoradiotherapy for Potentially Resectable Gastri...\n",
      "Predicted: Eligible\n",
      "Actual: Eligible\n",
      "Explanation: Alright, so I need to determine whether the patient described in the patient note is definitely eligible and relevant for the clinical trial. Let me start by carefully reviewing both pieces of information.\n",
      "\n",
      "First, looking at the patient note: a 63-year-old man presents with unintentional weight loss and epigastric discomfort after meals. He has no known medical issues or medications. His vital signs are normal except for blood pressure slightly above average (130/75) and a regular pulse rate of 88/min. The upper endoscopy shows a lesion in the stomach with features typical of diffuse-type adenocarcinoma, specifically signet ring cells that don't form glands.\n",
      "\n",
      "Now, examining the clinical trial: it's about perioperative chemoradiotherapy for potentially resectable gastric cancer. The inclusion criteria specify histologically confirmed primary adenocarcinoma, poorly differentiated or carcinoma not otherwise specified, in patients with T2-4 N0-3 M0 tumors. The tumor must be surgically operable (T1N1-3 if T1). They require pre-treatment Port-a-Cath insertion and exclude prior chemotherapy or radiotherapy. Patients must also have an ECOG performance status less than 1, meaning they're generally healthy enough to undergo surgery.\n",
      "\n",
      "The exclusion criteria mention in-situ carcinoma, TIN0 after endoscopy, esophageal tumors, prior treatments within the past five years, metastatic disease, certain heart conditions, severe comorbidities, pregnancy or lactation, prior malignancy (excluding specific cases), hearing loss, seizures with medication, and those who can't understand the trial requirements.\n",
      "\n",
      "The patient in question is a 63-year-old man with adenocarcinoma of the stomach. His ECOG status isn't mentioned but he's likely to have it <1 since no known medical issues are noted. His tumor features match the inclusion criteria for adenocarcinoma, specifically signet ring cells.\n",
      "\n",
      "He doesn't meet any exclusion criteria either: no in-situ or TIN0, not an esophagus tumor, no prior treatments mentioned, and he's generally a candidate for surgery given his age and lack of comorbidities. His vital signs are within normal ranges except for slightly elevated blood pressure, which isn't typically a reason to exclude someone from such trials.\n",
      "\n",
      "Therefore, the patient fits all the inclusion criteria and doesn't fall into any exclusion categories. He's a suitable candidate for the clinical trial.\n",
      "\n"
     ]
    }
   ],
   "source": [
    "# Calculate r\n",
    "num_true_matches = trial_matching_df[trial_matching_df['output'] == 'A: eligible'].shape[0]\n",
    "total_predicted = len(result_df)\n",
    "precision = num_true_matches / total_predicted if total_predicted > 0 else 0\n",
    "recall = len(merged_df) / num_true_matches if num_true_matches > 0 else 0\n",
    "\n",
    "# Print results\n",
    "print(f\"Precision: {precision:.2%}\")\n",
    "print(f\"Recall: {recall:.2%}\")\n",
    "\n",
    "# Display a few results\n",
    "print(\"\\nCorrect matches:\")\n",
    "sample = merged_df.sample(min(5, merged_df.shape[0]))\n",
    "for _, row in sample.iterrows():\n",
    "    print(f\"Patient ID: {row['patient_id']}\")\n",
    "    print(f\"Clinical Trial: {row['clinical_trial'][:100].replace('Here is the clinical trial:', '').replace('Title:', '').strip()}...\")  # Truncate for readability\n",
    "    print(f\"Predicted: Eligible\")\n",
    "    print(f\"Actual: {'Eligible' if row['output'] == 'A: eligible' else 'Not Eligible'}\")\n",
    "    print(f\"Explanation: {row['explanation_join']}\")\n",
    "    print()"
   ]
  },
  {
   "cell_type": "markdown",
   "metadata": {},
   "source": [
    "# Case Study 2: Reasoning Trace Curation\n",
    "Recent work has demonstrated the value of high-quality, difficult, and diverse reasoning traces. Curating such data for a particular domain like biomedicine becomes challenging with the uniquely domain-specific semantics of quality, difficulty, and diversity. Let's use Lotus to help us filter!\n",
    "\n",
    "First we'll take a look at an example from a large dataset of reasoning traces that was used to train HuaTuoGPT-o1."
   ]
  },
  {
   "cell_type": "code",
   "execution_count": 2,
   "metadata": {},
   "outputs": [
    {
     "name": "stdout",
     "output_type": "stream",
     "text": [
      "QUESTION:  A 61-year-old woman with a long history of involuntary urine loss during activities like coughing or sneezing but no leakage at night undergoes a gynecological exam and Q-tip test. Based on these findings, what would cystometry most likely reveal about her residual volume and detrusor contractions?\n",
      "\n",
      "REASONING TRACE:  Okay, let's think about this step by step. There's a 61-year-old woman here who's been dealing with involuntary urine leakages whenever she's doing something that ups her abdominal pressure like coughing or sneezing. This sounds a lot like stress urinary incontinence to me. Now, it's interesting that she doesn't have any issues at night; she isn't experiencing leakage while sleeping. This likely means her bladder's ability to hold urine is fine when she isn't under physical stress. Hmm, that's a clue that we're dealing with something related to pressure rather than a bladder muscle problem. \n",
      "\n",
      "The fact that she underwent a Q-tip test is intriguing too. This test is usually done to assess urethral mobility. In stress incontinence, a Q-tip might move significantly, showing urethral hypermobility. This kind of movement often means there's a weakness in the support structures that should help keep the urethra closed during increases in abdominal pressure. So, that's aligning well with stress incontinence.\n",
      "\n",
      "Now, let's think about what would happen during cystometry. Since stress incontinence isn't usually about sudden bladder contractions, I wouldn't expect to see involuntary detrusor contractions during this test. Her bladder isn't spasming or anything; it's more about the support structure failing under stress. Plus, she likely empties her bladder completely because stress incontinence doesn't typically involve incomplete emptying. So, her residual volume should be pretty normal. \n",
      "\n",
      "All in all, it seems like if they do a cystometry on her, it will likely show a normal residual volume and no involuntary contractions. Yup, I think that makes sense given her symptoms and the typical presentations of stress urinary incontinence.\n",
      "\n",
      "ANSWER:  Cystometry in this case of stress urinary incontinence would most likely reveal a normal post-void residual volume, as stress incontinence typically does not involve issues with bladder emptying. Additionally, since stress urinary incontinence is primarily related to physical exertion and not an overactive bladder, you would not expect to see any involuntary detrusor contractions during the test.\n"
     ]
    }
   ],
   "source": [
    "train_df = pd.read_parquet(\"/share/pi/nigam/data/med-s1/huatuogpt-o1\")\n",
    "train_sample = train_df.iloc[0]\n",
    "print(f\"QUESTION: \", train_sample[\"Question\"])\n",
    "print(f\"\\nREASONING TRACE: \", train_sample[\"Complex_CoT\"])\n",
    "print(f\"\\nANSWER: \", train_sample[\"Response\"])"
   ]
  },
  {
   "cell_type": "markdown",
   "metadata": {},
   "source": [
    "Recent work shows that a reasoning LLM can be efficiently learned by selecting a small (n=1000) set of samples that is high: \n",
    "1. Quality\n",
    "2. Difficulty\n",
    "3. Diversity\n",
    "\n",
    "In the biomedical domain (if we focus on the task of rare disease diagnosis) there are many ways we can define quality, difficulty, and diversity in reasoning. Here's a few examples:\n",
    "1. **Quality:** meeting standards of care (credit Suhana), logical coherence, more tokens for harder steps, frequent verification steps, references underlying pathophysiology, acknowledges alternate possibilities\n",
    "2. **Difficulty:** # of reasoning steps, disease rarity, # of diagnoses ruled out\n",
    "3. **Diversity:** different diseases, relevant physiological systems"
   ]
  },
  {
   "cell_type": "code",
   "execution_count": null,
   "metadata": {},
   "outputs": [
    {
     "name": "stderr",
     "output_type": "stream",
     "text": [
      "100%|██████████| 1/1 [00:00<00:00, 51.66it/s]\n",
      "Filtering: 100%|██████████ 4/4 LM calls [00:07<00:00,  1.79s/it]\n",
      "Extracting: 100%|██████████ 4/4 LM calls [00:06<00:00,  1.73s/it]\n"
     ]
    }
   ],
   "source": [
    "train_df_filtered = (\n",
    "    train_df\n",
    "    .head(5)\n",
    "    # (1) Semantic embedding-based deduplication\n",
    "    .sem_index('Question', 'huatuogpt_o1_train_questions')\n",
    "    .sem_dedup('Question', threshold=0.9)\n",
    "    # (2) Filter by Quality\n",
    "    .sem_filter('{Complex_CoT} meets all standards of care, references underlying pathophysiology, and acknowledges alternate possibilities', strategy=\"deepseek\", return_explanations=True)\n",
    ")\n",
    "# (3) Computer columns for Difficulty and Diversity\n",
    "train_df_labeled = train_df_filtered.sem_extract(['Question', 'Complex_CoT'], {'Domain': 'the specialty referenced by the question, capitalized', 'Difficulty': 'the level of difficulty between 1-10'}, strategy=\"deepseek\")"
   ]
  },
  {
   "cell_type": "markdown",
   "metadata": {},
   "source": [
    "Now that we've filtered reasoning races based on quality and generated labels for diversity and difficulty, we can proceed to use these labels to further conduct diversity-based difficulty-weighted sampling to arrive at an\n",
    "even smaller set of high-quality reasoning traces to train a reasoning LLM on."
   ]
  },
  {
   "cell_type": "code",
   "execution_count": 21,
   "metadata": {},
   "outputs": [
    {
     "data": {
      "text/html": [
       "<div>\n",
       "<style scoped>\n",
       "    .dataframe tbody tr th:only-of-type {\n",
       "        vertical-align: middle;\n",
       "    }\n",
       "\n",
       "    .dataframe tbody tr th {\n",
       "        vertical-align: top;\n",
       "    }\n",
       "\n",
       "    .dataframe thead th {\n",
       "        text-align: right;\n",
       "    }\n",
       "</style>\n",
       "<table border=\"1\" class=\"dataframe\">\n",
       "  <thead>\n",
       "    <tr style=\"text-align: right;\">\n",
       "      <th></th>\n",
       "      <th>Question</th>\n",
       "      <th>Complex_CoT</th>\n",
       "      <th>Response</th>\n",
       "      <th>explanation_filter</th>\n",
       "      <th>Domain</th>\n",
       "      <th>Difficulty</th>\n",
       "    </tr>\n",
       "  </thead>\n",
       "  <tbody>\n",
       "    <tr>\n",
       "      <th>0</th>\n",
       "      <td>A 61-year-old woman with a long history of inv...</td>\n",
       "      <td>Okay, let's think about this step by step. The...</td>\n",
       "      <td>Cystometry in this case of stress urinary inco...</td>\n",
       "      <td>Alright, let's break down this claim step by s...</td>\n",
       "      <td>Urology</td>\n",
       "      <td>5</td>\n",
       "    </tr>\n",
       "    <tr>\n",
       "      <th>1</th>\n",
       "      <td>A 45-year-old man presents with symptoms inclu...</td>\n",
       "      <td>Okay, so here's a 45-year-old guy who's experi...</td>\n",
       "      <td>Based on the clinical findings presented—wide-...</td>\n",
       "      <td>Alright, so I need to determine if the claim i...</td>\n",
       "      <td>Neurology</td>\n",
       "      <td>9</td>\n",
       "    </tr>\n",
       "    <tr>\n",
       "      <th>2</th>\n",
       "      <td>A patient with psoriasis was treated with syst...</td>\n",
       "      <td>I'm thinking about this patient with psoriasis...</td>\n",
       "      <td>The development of generalized pustules in a p...</td>\n",
       "      <td>Okay, so I need to determine whether the claim...</td>\n",
       "      <td>Dermatology</td>\n",
       "      <td>5</td>\n",
       "    </tr>\n",
       "    <tr>\n",
       "      <th>3</th>\n",
       "      <td>What is the most likely diagnosis for a 2-year...</td>\n",
       "      <td>Okay, so we're dealing with a 2-year-old child...</td>\n",
       "      <td>Based on the described symptoms and the unusua...</td>\n",
       "      <td>Alright, so I need to evaluate whether Complex...</td>\n",
       "      <td>Orthopedics</td>\n",
       "      <td>4</td>\n",
       "    </tr>\n",
       "  </tbody>\n",
       "</table>\n",
       "</div>"
      ],
      "text/plain": [
       "                                            Question  \\\n",
       "0  A 61-year-old woman with a long history of inv...   \n",
       "1  A 45-year-old man presents with symptoms inclu...   \n",
       "2  A patient with psoriasis was treated with syst...   \n",
       "3  What is the most likely diagnosis for a 2-year...   \n",
       "\n",
       "                                         Complex_CoT  \\\n",
       "0  Okay, let's think about this step by step. The...   \n",
       "1  Okay, so here's a 45-year-old guy who's experi...   \n",
       "2  I'm thinking about this patient with psoriasis...   \n",
       "3  Okay, so we're dealing with a 2-year-old child...   \n",
       "\n",
       "                                            Response  \\\n",
       "0  Cystometry in this case of stress urinary inco...   \n",
       "1  Based on the clinical findings presented—wide-...   \n",
       "2  The development of generalized pustules in a p...   \n",
       "3  Based on the described symptoms and the unusua...   \n",
       "\n",
       "                                  explanation_filter       Domain Difficulty  \n",
       "0  Alright, let's break down this claim step by s...      Urology          5  \n",
       "1  Alright, so I need to determine if the claim i...    Neurology          9  \n",
       "2  Okay, so I need to determine whether the claim...  Dermatology          5  \n",
       "3  Alright, so I need to evaluate whether Complex...  Orthopedics          4  "
      ]
     },
     "execution_count": 21,
     "metadata": {},
     "output_type": "execute_result"
    }
   ],
   "source": [
    "train_df_filtered.reset_index(drop=True).merge(train_df_labeled, left_index=True, right_index=True)"
   ]
  },
  {
   "cell_type": "markdown",
   "metadata": {},
   "source": [
    "# Case Study 3: Rare Disease Cohort Analysis\n",
    "In analyzing a rare disease cohort with the intent to build a better diagnostic model, the clinical notes can be a goldmine of information but hard to access due to the lack of a SQL like API. In this case study we'll see if we can answer a couple questions about a cohort (n=40) of patients diagnosed with Familial Hypercholesterolemia (FH):\n",
    "1. Do the notes for the patients contain a detailed explanation for the FH diagnosis?\n",
    "2. How expensive was the FH diagnostic odyssey? (e.g. # of tests ordered, specialties visited)"
   ]
  },
  {
   "cell_type": "code",
   "execution_count": 2,
   "metadata": {},
   "outputs": [
    {
     "name": "stdout",
     "output_type": "stream",
     "text": [
      "# of patients sampled: 40\n",
      "# of notes: 155\n"
     ]
    }
   ],
   "source": [
    "cohort = pd.read_parquet('/share/pi/nigam/data/med-s1/fh')\n",
    "fh_cohort = cohort[cohort['has_fh'] == 1].drop_duplicates(['person_id', 'note_datetime'])\n",
    "num_patients = fh_cohort['person_id'].nunique()\n",
    "num_notes = len(fh_cohort)\n",
    "print(f\"# of patients sampled: {num_patients}\\n# of notes: {num_notes}\")"
   ]
  },
  {
   "cell_type": "code",
   "execution_count": 3,
   "metadata": {},
   "outputs": [
    {
     "name": "stderr",
     "output_type": "stream",
     "text": [
      "Aggregating:   0%|           0/1 LM calls [00:00<?, ?it/s]\n",
      "\u001b[A\n",
      "\n",
      "\u001b[A\u001b[A\n",
      "\n",
      "\n",
      "\u001b[A\u001b[A\u001b[A"
     ]
    },
    {
     "name": "stderr",
     "output_type": "stream",
     "text": [
      "\n",
      "\n",
      "\n",
      "Aggregating: 100%|██████████ 1/1 LM calls [00:22<00:00, 22.25s/it]\n",
      "Aggregating: 100%|██████████ 1/1 LM calls [00:23<00:00, 23.16s/it]\n",
      "\n",
      "Aggregating: 100%|██████████ 1/1 LM calls [00:23<00:00, 23.30s/it]\n",
      "Aggregating: 100%|██████████ 1/1 LM calls [00:23<00:00, 23.41s/it]\n",
      "\n",
      "\n",
      "Aggregating: 100%|██████████ 1/1 LM calls [00:28<00:00, 28.63s/it]\n"
     ]
    }
   ],
   "source": [
    "fh_sample = fh_cohort.merge(fh_cohort['person_id'].drop_duplicates().head(5), on='person_id', how='inner')\n",
    "fh_diagnostic_odysseys = (\n",
    "  fh_sample\n",
    "  .sort_values(['person_id', 'note_datetime'])\n",
    "  .sem_agg(\n",
    "    'Summarize the steps documented in {note_text} that led to the Familial Hypercholesterolemia (FH) diagnosis; including suspicion, testing, specialty visits.',\n",
    "    group_by=['person_id'],\n",
    "    strategy=\"deepseek\",\n",
    "    return_explanations=True,\n",
    "  )\n",
    ")"
   ]
  },
  {
   "cell_type": "markdown",
   "metadata": {},
   "source": [
    "The resulting summaries of patient diagnostic odysseys can be manually reviewed to better understand the cost of delayed diagnosis (and the implied utility of an AI tool diagnosis of this disease) but also can be used as training data for reasoning LLMs."
   ]
  },
  {
   "cell_type": "code",
   "execution_count": null,
   "metadata": {},
   "outputs": [],
   "source": [
    "print(fh_diagnostic_odysseys.iloc[1]['_output'] + \"\\n\")"
   ]
  },
  {
   "cell_type": "markdown",
   "metadata": {},
   "source": [
    "For some patients an explanation of the FH diagnosis doesn't existin the notes. These could be manually reviewed or excluded from the dataset for a higher precision cohort."
   ]
  },
  {
   "cell_type": "code",
   "execution_count": null,
   "metadata": {},
   "outputs": [],
   "source": [
    "print(fh_diagnostic_odysseys[fh_diagnostic_odysseys['explanation_output'].isna()].iloc[0]['_output'])"
   ]
  }
 ],
 "metadata": {
  "kernelspec": {
   "display_name": "Python 3",
   "language": "python",
   "name": "python3"
  },
  "language_info": {
   "codemirror_mode": {
    "name": "ipython",
    "version": 3
   },
   "file_extension": ".py",
   "mimetype": "text/x-python",
   "name": "python",
   "nbconvert_exporter": "python",
   "pygments_lexer": "ipython3",
   "version": "3.10.16"
  }
 },
 "nbformat": 4,
 "nbformat_minor": 2
}
